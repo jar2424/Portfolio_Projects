{
 "cells": [
  {
   "cell_type": "code",
   "execution_count": 29,
   "metadata": {},
   "outputs": [],
   "source": [
    "# import libraries \n",
    "\n",
    "from bs4 import BeautifulSoup\n",
    "import requests\n",
    "import time\n",
    "import datetime\n",
    "\n",
    "import smtplib"
   ]
  },
  {
   "cell_type": "code",
   "execution_count": 38,
   "metadata": {},
   "outputs": [
    {
     "name": "stdout",
     "output_type": "stream",
     "text": [
      "At Euro 24 there has been a total of 114 goals so far\n",
      "The team with the most goals is Spain\n",
      "They have scored 13 goals\n"
     ]
    }
   ],
   "source": [
    "# This code shall regularly (every day) pull in the data on the total goals scored at the Euros 24 so far\n",
    "\n",
    "# First: Connect to website and pull in data\n",
    "\n",
    "URL = 'https://www.uefa.com/euro2024/statistics/'\n",
    "\n",
    "headers = {\"User-Agent\": \"Mozilla/5.0 (Macintosh; Intel Mac OS X 10_15_7) AppleWebKit/605.1.15 (KHTML, like Gecko) Version/17.5 Safari/605.1.15\"}\n",
    "\n",
    "page = requests.get(URL, headers=headers)\n",
    "\n",
    "soup1 = BeautifulSoup(page.content, \"html.parser\")\n",
    "\n",
    "soup2 = BeautifulSoup(soup1.prettify(), \"html.parser\")\n",
    "\n",
    "goal_count_element = soup2.find('div', {'slot': 'stat-value'})\n",
    "if goal_count_element:\n",
    "    goal_count = goal_count_element.get_text().strip()\n",
    "else:\n",
    "    goal_count = \"Goal count not found\"\n",
    "        \n",
    "team_with_most_goals = soup2.find('span', {'class': 'pk-font-size--m pk-text--elevation-01', 'slot': 'primary'})\n",
    "if team_with_most_goals:\n",
    "    team_most_goals = team_with_most_goals.get_text().strip()\n",
    "else:\n",
    "    team_most_goals = \"Team not found\"\n",
    "    \n",
    "    \n",
    "goal_count_element2 = soup2.find('div', {'class': 'pk-font-size--xl pk-text--elevation-01', 'slot': 'suffix-card'})\n",
    "if goal_count_element2:\n",
    "    goal_count_team = goal_count_element2.get_text().strip()\n",
    "else:\n",
    "    goal_count_team = \"Goal count not found\"\n",
    "\n",
    "print('At Euro 24 there has been a total of', goal_count, 'goals so far')\n",
    "print('The team with the most goals is', team_most_goals)\n",
    "print('They have scored', goal_count_team, 'goals')"
   ]
  },
  {
   "cell_type": "code",
   "execution_count": 39,
   "metadata": {},
   "outputs": [
    {
     "name": "stdout",
     "output_type": "stream",
     "text": [
      "2024-07-11\n"
     ]
    }
   ],
   "source": [
    "# Create a Timestamp for the output to track when data was collected\n",
    "\n",
    "import datetime\n",
    "\n",
    "today = datetime.date.today()\n",
    "\n",
    "print(today)"
   ]
  },
  {
   "cell_type": "code",
   "execution_count": 40,
   "metadata": {},
   "outputs": [],
   "source": [
    "# Create CSV and write headers and data into the file\n",
    "\n",
    "import csv \n",
    "\n",
    "header = ['Total_Goals', 'Team_with_most_Goals', 'Goals_from_highest_scoring_team', 'Date']\n",
    "data = [goal_count, team_most_goals, goal_count_team, today]\n",
    "\n",
    "with open('Euro24_Goals.csv', 'w', newline='', encoding='UTF8') as f:\n",
    "    writer = csv.writer(f)\n",
    "    writer.writerow(header)\n",
    "    writer.writerow(data)"
   ]
  },
  {
   "cell_type": "code",
   "execution_count": 42,
   "metadata": {},
   "outputs": [
    {
     "data": {
      "text/html": [
       "<div>\n",
       "<style scoped>\n",
       "    .dataframe tbody tr th:only-of-type {\n",
       "        vertical-align: middle;\n",
       "    }\n",
       "\n",
       "    .dataframe tbody tr th {\n",
       "        vertical-align: top;\n",
       "    }\n",
       "\n",
       "    .dataframe thead th {\n",
       "        text-align: right;\n",
       "    }\n",
       "</style>\n",
       "<table border=\"1\" class=\"dataframe\">\n",
       "  <thead>\n",
       "    <tr style=\"text-align: right;\">\n",
       "      <th></th>\n",
       "      <th>Total_Goals</th>\n",
       "      <th>Team_with_most_Goals</th>\n",
       "      <th>Goals_from_highest_scoring_team</th>\n",
       "      <th>Date</th>\n",
       "    </tr>\n",
       "  </thead>\n",
       "  <tbody>\n",
       "    <tr>\n",
       "      <th>0</th>\n",
       "      <td>114</td>\n",
       "      <td>Spain</td>\n",
       "      <td>13</td>\n",
       "      <td>2024-07-11</td>\n",
       "    </tr>\n",
       "  </tbody>\n",
       "</table>\n",
       "</div>"
      ],
      "text/plain": [
       "   Total_Goals Team_with_most_Goals  Goals_from_highest_scoring_team  \\\n",
       "0          114                Spain                               13   \n",
       "\n",
       "         Date  \n",
       "0  2024-07-11  "
      ]
     },
     "execution_count": 42,
     "metadata": {},
     "output_type": "execute_result"
    }
   ],
   "source": [
    "# Check the file\n",
    "\n",
    "import pandas as pd\n",
    "\n",
    "df = pd.read_csv('/Users/juliusrucha/Euro24_Goals.csv')\n",
    "\n",
    "df"
   ]
  },
  {
   "cell_type": "code",
   "execution_count": 43,
   "metadata": {},
   "outputs": [],
   "source": [
    "#Appending data to the csv\n",
    "\n",
    "with open('Euro24_Goals.csv', 'a+', newline='', encoding='UTF8') as f:\n",
    "    writer = csv.writer(f)\n",
    "    writer.writerow(data)"
   ]
  },
  {
   "cell_type": "code",
   "execution_count": 44,
   "metadata": {},
   "outputs": [],
   "source": [
    "#Combine all of the above code into one function\n",
    "\n",
    "def check_goals():\n",
    "\n",
    "    URL = 'https://www.uefa.com/euro2024/statistics/'\n",
    "\n",
    "    headers = {\"User-Agent\": \"Mozilla/5.0 (Macintosh; Intel Mac OS X 10_15_7) AppleWebKit/605.1.15 (KHTML, like Gecko) Version/17.5 Safari/605.1.15\"}\n",
    "\n",
    "    page = requests.get(URL, headers=headers)\n",
    "\n",
    "    soup1 = BeautifulSoup(page.content, \"html.parser\")\n",
    "\n",
    "    soup2 = BeautifulSoup(soup1.prettify(), \"html.parser\")\n",
    "\n",
    "    goal_count_element = soup2.find('div', {'slot': 'stat-value'})\n",
    "    if goal_count_element:\n",
    "        goal_count = goal_count_element.get_text().strip()\n",
    "    else:\n",
    "        goal_count = \"Goal count not found\"\n",
    "    \n",
    "        \n",
    "    team_with_most_goals = soup2.find('span', {'class': 'pk-font-size--m pk-text--elevation-01', 'slot': 'primary'})\n",
    "    if team_with_most_goals:\n",
    "        team_most_goals = team_with_most_goals.get_text().strip()\n",
    "    else:\n",
    "        team_most_goals = \"Team not found\"\n",
    "    \n",
    "    \n",
    "    goal_count_element2 = soup2.find('div', {'class': 'pk-font-size--xl pk-text--elevation-01', 'slot': 'suffix-card'})\n",
    "    if goal_count_element2:\n",
    "        goal_count_team = goal_count_element2.get_text().strip()\n",
    "    else:\n",
    "        goal_count_team = \"Goal count not found\"\n",
    "    \n",
    "    \n",
    "    import datetime\n",
    "\n",
    "    today = datetime.date.today()\n",
    "\n",
    "    import csv \n",
    "\n",
    "    header = ['Total_Goals', 'Team_with_most_Goals', 'Goals_from_highest_scoring_team', 'Date']\n",
    "    data = [goal_count, team_most_goals, goal_count_team, today]\n",
    "\n",
    "    with open('Euro24_Goals.csv', 'a+', newline='', encoding='UTF8') as f:\n",
    "        writer = csv.writer(f)\n",
    "        writer.writerow(data)"
   ]
  },
  {
   "cell_type": "code",
   "execution_count": null,
   "metadata": {},
   "outputs": [],
   "source": [
    "# Update the data every day\n",
    "\n",
    "while(True):\n",
    "    check_goals()\n",
    "    time.sleep(86400)"
   ]
  }
 ],
 "metadata": {
  "kernelspec": {
   "display_name": "Python 3",
   "language": "python",
   "name": "python3"
  },
  "language_info": {
   "codemirror_mode": {
    "name": "ipython",
    "version": 3
   },
   "file_extension": ".py",
   "mimetype": "text/x-python",
   "name": "python",
   "nbconvert_exporter": "python",
   "pygments_lexer": "ipython3",
   "version": "3.8.5"
  }
 },
 "nbformat": 4,
 "nbformat_minor": 4
}
